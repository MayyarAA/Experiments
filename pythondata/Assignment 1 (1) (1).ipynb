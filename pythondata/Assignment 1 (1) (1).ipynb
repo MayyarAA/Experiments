{
 "cells": [
  {
   "cell_type": "code",
   "execution_count": 2,
   "id": "e490b008-b885-49a6-a75e-8f55ca955ec2",
   "metadata": {},
   "outputs": [],
   "source": [
    "## Assignment 1 - Part 2 (Part 1 is on Datacamp)"
   ]
  },
  {
   "cell_type": "code",
   "execution_count": 3,
   "id": "3b804a2b",
   "metadata": {},
   "outputs": [],
   "source": [
    "import pandas\n",
    "import numpy"
   ]
  },
  {
   "cell_type": "code",
   "execution_count": null,
   "id": "e576bc80-1c9a-477f-b720-21b7de598027",
   "metadata": {},
   "outputs": [],
   "source": []
  },
  {
   "cell_type": "markdown",
   "id": "86ff48d3",
   "metadata": {},
   "source": [
    "You have access to a dataset called \"stock_data.csv\". This contains stock information for the S&P 500 (plus a few more) index of stocks. Please perform the following actions on this dataset. You should submit a .ipynb notebook that prints the answers to the following questions:\n",
    "\n",
    "1) Identify the number of unique stock tickers in the dataset (hint: the answer is not 500)\n",
    "\n",
    "2) Output the set of columns in this dataset.\n",
    "\n",
    "3) Each company belongs to a sector (e.g., Consumer Discretionary, Health Care, etc). Output the fraction of companies that belong to each sector. \n",
    "\n",
    "4) Calculate the mean and median of the \"Earnings/Share\" (column name: \"eps\") for all companies in this dataset. Explain in two or three sentences (max) why you think there is quite a gap between these two measures\".\n",
    "\n",
    "Note: You should solve all of these questions using Python. If you simply solve by looking at the Excel file, you will not receive any points. I recommend using a different cell for each question."
   ]
  },
  {
   "cell_type": "code",
   "execution_count": 4,
   "id": "8d14c31c",
   "metadata": {},
   "outputs": [],
   "source": [
    "#number of unique stock tickers in dataset\n",
    "stocks=pandas.read_csv(\"./stock_data.csv\")"
   ]
  },
  {
   "cell_type": "code",
   "execution_count": 5,
   "id": "d7a13007-93df-48a2-b213-88c6e4893855",
   "metadata": {},
   "outputs": [
    {
     "data": {
      "text/html": [
       "<div>\n",
       "<style scoped>\n",
       "    .dataframe tbody tr th:only-of-type {\n",
       "        vertical-align: middle;\n",
       "    }\n",
       "\n",
       "    .dataframe tbody tr th {\n",
       "        vertical-align: top;\n",
       "    }\n",
       "\n",
       "    .dataframe thead th {\n",
       "        text-align: right;\n",
       "    }\n",
       "</style>\n",
       "<table border=\"1\" class=\"dataframe\">\n",
       "  <thead>\n",
       "    <tr style=\"text-align: right;\">\n",
       "      <th></th>\n",
       "      <th>symbol</th>\n",
       "      <th>name</th>\n",
       "      <th>sector</th>\n",
       "      <th>price</th>\n",
       "      <th>price_per_earnings</th>\n",
       "      <th>dividend_yield</th>\n",
       "      <th>eps</th>\n",
       "      <th>52weeklow</th>\n",
       "      <th>52weekhigh</th>\n",
       "      <th>market_cap</th>\n",
       "      <th>ebitda</th>\n",
       "      <th>price_per_sales</th>\n",
       "      <th>price_per_book</th>\n",
       "      <th>secfilings</th>\n",
       "    </tr>\n",
       "  </thead>\n",
       "  <tbody>\n",
       "    <tr>\n",
       "      <th>0</th>\n",
       "      <td>MMM</td>\n",
       "      <td>3M Company</td>\n",
       "      <td>Industrials</td>\n",
       "      <td>222.89</td>\n",
       "      <td>24.31</td>\n",
       "      <td>2.332862</td>\n",
       "      <td>7.92</td>\n",
       "      <td>259.77</td>\n",
       "      <td>175.490</td>\n",
       "      <td>1.387210e+11</td>\n",
       "      <td>9.048000e+09</td>\n",
       "      <td>4.390271</td>\n",
       "      <td>11.34</td>\n",
       "      <td>http://www.sec.gov/cgi-bin/browse-edgar?action...</td>\n",
       "    </tr>\n",
       "    <tr>\n",
       "      <th>1</th>\n",
       "      <td>AOS</td>\n",
       "      <td>A.O. Smith Corp</td>\n",
       "      <td>Industrials</td>\n",
       "      <td>60.24</td>\n",
       "      <td>27.76</td>\n",
       "      <td>1.147959</td>\n",
       "      <td>1.70</td>\n",
       "      <td>68.39</td>\n",
       "      <td>48.925</td>\n",
       "      <td>1.078342e+10</td>\n",
       "      <td>6.010000e+08</td>\n",
       "      <td>3.575483</td>\n",
       "      <td>6.35</td>\n",
       "      <td>http://www.sec.gov/cgi-bin/browse-edgar?action...</td>\n",
       "    </tr>\n",
       "    <tr>\n",
       "      <th>2</th>\n",
       "      <td>ABT</td>\n",
       "      <td>Abbott Laboratories</td>\n",
       "      <td>Health Care</td>\n",
       "      <td>56.27</td>\n",
       "      <td>22.51</td>\n",
       "      <td>1.908982</td>\n",
       "      <td>0.26</td>\n",
       "      <td>64.60</td>\n",
       "      <td>42.280</td>\n",
       "      <td>1.021210e+11</td>\n",
       "      <td>5.744000e+09</td>\n",
       "      <td>3.740480</td>\n",
       "      <td>3.19</td>\n",
       "      <td>http://www.sec.gov/cgi-bin/browse-edgar?action...</td>\n",
       "    </tr>\n",
       "    <tr>\n",
       "      <th>3</th>\n",
       "      <td>ABBV</td>\n",
       "      <td>AbbVie Inc.</td>\n",
       "      <td>Health Care</td>\n",
       "      <td>108.48</td>\n",
       "      <td>19.41</td>\n",
       "      <td>2.499560</td>\n",
       "      <td>3.29</td>\n",
       "      <td>125.86</td>\n",
       "      <td>60.050</td>\n",
       "      <td>1.813860e+11</td>\n",
       "      <td>1.031000e+10</td>\n",
       "      <td>6.291571</td>\n",
       "      <td>26.14</td>\n",
       "      <td>http://www.sec.gov/cgi-bin/browse-edgar?action...</td>\n",
       "    </tr>\n",
       "    <tr>\n",
       "      <th>4</th>\n",
       "      <td>ACN</td>\n",
       "      <td>Accenture plc</td>\n",
       "      <td>Information Technology</td>\n",
       "      <td>150.51</td>\n",
       "      <td>25.47</td>\n",
       "      <td>1.714470</td>\n",
       "      <td>5.44</td>\n",
       "      <td>162.60</td>\n",
       "      <td>114.820</td>\n",
       "      <td>9.876586e+10</td>\n",
       "      <td>5.643228e+09</td>\n",
       "      <td>2.604117</td>\n",
       "      <td>10.62</td>\n",
       "      <td>http://www.sec.gov/cgi-bin/browse-edgar?action...</td>\n",
       "    </tr>\n",
       "  </tbody>\n",
       "</table>\n",
       "</div>"
      ],
      "text/plain": [
       "  symbol                 name                  sector   price  \\\n",
       "0    MMM           3M Company             Industrials  222.89   \n",
       "1    AOS      A.O. Smith Corp             Industrials   60.24   \n",
       "2    ABT  Abbott Laboratories             Health Care   56.27   \n",
       "3   ABBV          AbbVie Inc.             Health Care  108.48   \n",
       "4    ACN        Accenture plc  Information Technology  150.51   \n",
       "\n",
       "   price_per_earnings  dividend_yield   eps  52weeklow  52weekhigh  \\\n",
       "0               24.31        2.332862  7.92     259.77     175.490   \n",
       "1               27.76        1.147959  1.70      68.39      48.925   \n",
       "2               22.51        1.908982  0.26      64.60      42.280   \n",
       "3               19.41        2.499560  3.29     125.86      60.050   \n",
       "4               25.47        1.714470  5.44     162.60     114.820   \n",
       "\n",
       "     market_cap        ebitda  price_per_sales  price_per_book  \\\n",
       "0  1.387210e+11  9.048000e+09         4.390271           11.34   \n",
       "1  1.078342e+10  6.010000e+08         3.575483            6.35   \n",
       "2  1.021210e+11  5.744000e+09         3.740480            3.19   \n",
       "3  1.813860e+11  1.031000e+10         6.291571           26.14   \n",
       "4  9.876586e+10  5.643228e+09         2.604117           10.62   \n",
       "\n",
       "                                          secfilings  \n",
       "0  http://www.sec.gov/cgi-bin/browse-edgar?action...  \n",
       "1  http://www.sec.gov/cgi-bin/browse-edgar?action...  \n",
       "2  http://www.sec.gov/cgi-bin/browse-edgar?action...  \n",
       "3  http://www.sec.gov/cgi-bin/browse-edgar?action...  \n",
       "4  http://www.sec.gov/cgi-bin/browse-edgar?action...  "
      ]
     },
     "execution_count": 5,
     "metadata": {},
     "output_type": "execute_result"
    }
   ],
   "source": [
    "stocks.head(5)"
   ]
  },
  {
   "cell_type": "code",
   "execution_count": 6,
   "id": "cde3aec4-e853-4643-b68e-53391cfbf6d5",
   "metadata": {},
   "outputs": [
    {
     "name": "stdout",
     "output_type": "stream",
     "text": [
      "505\n"
     ]
    }
   ],
   "source": [
    "#Q1 number of unique stocks\n",
    "unqiue_stocks_count = stocks[\"symbol\"].nunique()\n",
    "print(unqiue_stocks_count)"
   ]
  },
  {
   "cell_type": "code",
   "execution_count": 7,
   "id": "f91fab76-6e80-4660-a0fe-61b1f2ff1f23",
   "metadata": {},
   "outputs": [
    {
     "name": "stdout",
     "output_type": "stream",
     "text": [
      "Index(['symbol', 'name', 'sector', 'price', 'price_per_earnings',\n",
      "       'dividend_yield', 'eps', '52weeklow', '52weekhigh', 'market_cap',\n",
      "       'ebitda', 'price_per_sales', 'price_per_book', 'secfilings'],\n",
      "      dtype='object')\n"
     ]
    }
   ],
   "source": [
    "#Q2\n",
    "print(stocks.columns)"
   ]
  },
  {
   "cell_type": "code",
   "execution_count": 15,
   "id": "83fed342-67dd-4c71-9fc8-047c8fc443f6",
   "metadata": {},
   "outputs": [
    {
     "name": "stdout",
     "output_type": "stream",
     "text": [
      "fraction of Industrials 0.13267326732673268\n",
      "fraction of Health Care 0.12079207920792079\n",
      "fraction of Information Technolog 0.13861386138613863\n",
      "Consumer Discretionar 0.16633663366336635\n",
      "Financials 0.13465346534653466\n",
      "Real Estat 0.06534653465346535\n",
      "Energy 0.06336633663366337\n",
      "Utilities 0.055445544554455446\n",
      "Consumer Staples 0.06732673267326733\n"
     ]
    }
   ],
   "source": [
    "#Q3\n",
    "frac_of_Industrials = (stocks[\"sector\"]==\"Industrials\").sum()/unqiue_stocks_count\n",
    "#print(frac_of_Industrials)\n",
    "val=\"fraction of Industrials \"+ str(frac_of_Industrials)\n",
    "print(val)\n",
    "\n",
    "frac_of_Health = (stocks[\"sector\"]==\"Health Care\").sum()/unqiue_stocks_count\n",
    "val=\"fraction of Health Care \"+ str(frac_of_Health)\n",
    "print(val)\n",
    "\n",
    "frac_of_IT = (stocks[\"sector\"]==\"Information Technology\").sum()/unqiue_stocks_count\n",
    "#print(frac_of_IT)\n",
    "val=\"fraction of Information Technolog \"+ str(frac_of_IT)\n",
    "print(val)\n",
    "\n",
    "frac_of_CD = (stocks[\"sector\"]==\"Consumer Discretionary\").sum()/unqiue_stocks_count\n",
    "#print(frac_of_CD)\n",
    "val=\"Consumer Discretionar \"+ str(frac_of_CD)\n",
    "print(val)\n",
    "\n",
    "frac_of_Financials = (stocks[\"sector\"]==\"Financials\").sum()/unqiue_stocks_count\n",
    "#print(frac_of_Financials)\n",
    "val=\"Financials \"+ str(frac_of_Financials)\n",
    "print(val)\n",
    "\n",
    "frac_of_RE = (stocks[\"sector\"]==\"Real Estate\").sum()/unqiue_stocks_count\n",
    "#print(frac_of_RE)\n",
    "val=\"Real Estat \"+ str(frac_of_RE)\n",
    "print(val)\n",
    "\n",
    "frac_of_Energy = (stocks[\"sector\"]==\"Energy\").sum()/unqiue_stocks_count\n",
    "#print(frac_of_Energy)\n",
    "val=\"Energy \"+ str(frac_of_Energy)\n",
    "print(val)\n",
    "\n",
    "frac_of_Utilities = (stocks[\"sector\"]==\"Utilities\").sum()/unqiue_stocks_count\n",
    "#print(frac_of_Utilities)\n",
    "val=\"Utilities \"+ str(frac_of_Utilities)\n",
    "print(val)\n",
    "\n",
    "frac_of_CS = (stocks[\"sector\"]==\"Consumer Staples\").sum()/unqiue_stocks_count\n",
    "#print(frac_of_CS)\n",
    "val=\"Consumer Staples \"+ str(frac_of_CS)\n",
    "print(val)\n",
    "\n"
   ]
  },
  {
   "cell_type": "code",
   "execution_count": 20,
   "id": "39384a61-3e3c-4ad1-ad75-868eb7592466",
   "metadata": {},
   "outputs": [
    {
     "name": "stdout",
     "output_type": "stream",
     "text": [
      "3.7537425742574246\n",
      "2.89\n"
     ]
    }
   ],
   "source": [
    "#Q4\n",
    "\n",
    "mean_eps = stocks[\"eps\"].mean()\n",
    "print(mean_eps)\n",
    "\n",
    "median_eps = stocks[\"eps\"].median()\n",
    "print(median_eps)"
   ]
  },
  {
   "cell_type": "code",
   "execution_count": null,
   "id": "ea15a64c-78d3-4616-82c6-d71aa8d53b35",
   "metadata": {},
   "outputs": [],
   "source": [
    "#Q4: it means that this data is not normally distrubited and the median is a better number to represent this dataset \n"
   ]
  }
 ],
 "metadata": {
  "kernelspec": {
   "display_name": "Python 3 (ipykernel)",
   "language": "python",
   "name": "python3"
  },
  "language_info": {
   "codemirror_mode": {
    "name": "ipython",
    "version": 3
   },
   "file_extension": ".py",
   "mimetype": "text/x-python",
   "name": "python",
   "nbconvert_exporter": "python",
   "pygments_lexer": "ipython3",
   "version": "3.9.7"
  }
 },
 "nbformat": 4,
 "nbformat_minor": 5
}
