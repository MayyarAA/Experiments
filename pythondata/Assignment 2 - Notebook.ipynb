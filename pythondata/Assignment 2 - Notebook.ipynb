{
 "cells": [
  {
   "cell_type": "markdown",
   "id": "eba54759",
   "metadata": {},
   "source": [
    "## Assignment 2 [4 Points]\n",
    "\n",
    "**Topics Covered:** Boolean Operations, Data Visualization, and Data Sorting.<br>\n",
    "**Group Work**: You may perform this assignment in groups of two, but you must each submit the Jupyter notebook separately\n",
    "\n",
    "For this assignment, we will use the dataset \"canada_balancesheet_oct19.csv\", which contains a small fraction of the *Quarterly Balance Sheet and Income Statement, by Industry*, uploaded by the Canadian government every quarter. In particular, the current dataset only contains the \"Total assets\" and \"Income tax\" paid by various industries such as Agriculture, Retail, etc for the quarter beginning in October 2019. All amounts are in millions of dollars.\n",
    "\n",
    "Please answer the questions posed below. For explanations create a new markdown cell - you can covert a normal cell to a markdown cell by clicking on the following option in the menu: **Cell --> Cell Type --> Markdown**. Remember, markdown cells cannot contain any code.\n",
    "\n",
    "You are urged to go over the dataset before proceeding with the assignment so that you clearly understand the purpose of the columns."
   ]
  },
  {
   "cell_type": "code",
   "execution_count": null,
   "id": "594dfb66",
   "metadata": {},
   "outputs": [],
   "source": [
    "#Don't change this part of the code\n",
    "import pandas as pd\n",
    "import numpy as np\n",
    "import matplotlib.pyplot as plt"
   ]
  },
  {
   "cell_type": "markdown",
   "id": "d2b89e4d",
   "metadata": {},
   "source": [
    "## Pre-Requisites \n",
    "\n",
    "1. Read the data file canada_balancesheet_oct19.csv into a dataframe\n",
    "2. Verify the number of entries (rows) in the dataset"
   ]
  },
  {
   "cell_type": "code",
   "execution_count": null,
   "id": "c87d98b3",
   "metadata": {},
   "outputs": [],
   "source": []
  },
  {
   "cell_type": "markdown",
   "id": "f87ce0e4",
   "metadata": {},
   "source": [
    "## Question 1 [1 point]\n",
    "**Check for Incorrect Data**\n",
    "\n",
    "Sometimes the people who create the dataset are not accountants or data scientists and may make errors while compiling the records. Your task is to check whether the **date** for all of the entries in your dataframe is the \"19-Oct\" (a string). \n",
    "\n",
    "To do this, please create a new dataframe called **dfOct19** which only contains the entries from the original dataframe whose date is \"19-Oct\". \n",
    "\n",
    "How many entries were incorrect in the original dataframe?\n",
    "\n",
    "**Hint**: <i>You can use boolean operations to create a new dataframe for only the rows whose date is \"19-Oct\". Use the len function to compare the number of rows in the new data frame vs original dataframe</i>\n"
   ]
  },
  {
   "cell_type": "code",
   "execution_count": null,
   "id": "1674795d",
   "metadata": {},
   "outputs": [],
   "source": []
  },
  {
   "cell_type": "markdown",
   "id": "c734adb3",
   "metadata": {},
   "source": [
    "From now on, you must perform all operations only on the dfOct19 dataframe. The original dataframe can be ignored from this point on."
   ]
  },
  {
   "cell_type": "markdown",
   "id": "54ac289f",
   "metadata": {},
   "source": [
    "## Question 2 [1.5 points]\n",
    "**Understand the Income Tax Distribution**\n",
    "\n",
    "As part of the Govt. of Canada's task force, you want to understand how much income tax is paid by each industry. Remember that each industry has a unique title under the \"naics\" column. \n",
    "\n",
    "1) Plot a histogram of the income tax paid. Remember that the amount of tax is in the column called \"income_tax\". Explain in one or two sentences, your choice for number of bins.  \n",
    "\n",
    "2) How many industries pay negative income tax?"
   ]
  },
  {
   "cell_type": "code",
   "execution_count": null,
   "id": "c1c5b093",
   "metadata": {},
   "outputs": [],
   "source": []
  },
  {
   "cell_type": "markdown",
   "id": "2b5359fb",
   "metadata": {},
   "source": [
    "## Question 3 [1.5 points]\n",
    "**Do More Assets lead to low Income Tax?**\n",
    "\n",
    "Since many industries pay very little income tax, we want to verify if high assets correspond to low income tax. As accounting students, you may already know the answer to this question but it never hurts to get a second opinion from the data. \n",
    "\n",
    "To do this:\n",
    "1) Extract the 10 industries (naics) that pay the lowest amount of Income Tax into a new dataframe called dfLowTax (this dataframe must contain all columns about these 10 industries) <br>\n",
    "2) Calculate the average \"assets\" for the ten industries in dfLowTax\n",
    "\n",
    "Based on the above analyses comment on whether or not these industries have a lot of assets.\n",
    "\n",
    "**Hint** <i>You may need a point of comparison to say whether or not the average assets for these 10 industries are high or low. Look at the complete dataset (dfOct19) as a benchmark.</i>"
   ]
  },
  {
   "cell_type": "code",
   "execution_count": null,
   "id": "6b53757b",
   "metadata": {},
   "outputs": [],
   "source": []
  },
  {
   "cell_type": "code",
   "execution_count": null,
   "id": "50bd2af7",
   "metadata": {},
   "outputs": [],
   "source": []
  }
 ],
 "metadata": {
  "kernelspec": {
   "display_name": "Python 3",
   "language": "python",
   "name": "python3"
  },
  "language_info": {
   "codemirror_mode": {
    "name": "ipython",
    "version": 3
   },
   "file_extension": ".py",
   "mimetype": "text/x-python",
   "name": "python",
   "nbconvert_exporter": "python",
   "pygments_lexer": "ipython3",
   "version": "3.8.5"
  }
 },
 "nbformat": 4,
 "nbformat_minor": 5
}
